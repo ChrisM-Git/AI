{
 "cells": [
  {
   "cell_type": "code",
   "id": "initial_id",
   "metadata": {
    "collapsed": true,
    "ExecuteTime": {
     "end_time": "2025-01-30T21:19:42.626359Z",
     "start_time": "2025-01-30T21:19:42.624556Z"
    }
   },
   "source": [
    "\n",
    "import pandas as pd\n",
    "from sklearn.model_selection import train_test_split\n",
    "from sklearn.preprocessing import OneHotEncoder\n",
    "from sklearn.preprocessing import StandardScaler,LabelEncoder\n",
    "import pickle\n"
   ],
   "outputs": [],
   "execution_count": 2
  },
  {
   "metadata": {
    "ExecuteTime": {
     "end_time": "2025-01-30T21:19:44.469506Z",
     "start_time": "2025-01-30T21:19:44.455722Z"
    }
   },
   "cell_type": "code",
   "source": [
    "data=pd.read_csv('bankmodels.csv')\n",
    "data.head()"
   ],
   "id": "8c782a58756dc0dd",
   "outputs": [
    {
     "data": {
      "text/plain": [
       "   RowNumber  CustomerId   Surname  CreditScore Geography  Gender  Age  \\\n",
       "0          1    15634602  Hargrave          619  Portland  Female   42   \n",
       "1          2    15647311      Hill          608     Salem  Female   41   \n",
       "2          3    15619304      Onio          502  Portland  Female   42   \n",
       "3          4    15701354      Boni          699  Portland  Female   39   \n",
       "4          5    15737888  Mitchell          850     Salem  Female   43   \n",
       "\n",
       "   Tenure    Balance  NumOfProducts  HasCrCard  IsActiveMember  \\\n",
       "0       2       0.00              1          1               1   \n",
       "1       1   83807.86              1          0               1   \n",
       "2       8  159660.80              3          1               0   \n",
       "3       1       0.00              2          0               0   \n",
       "4       2  125510.82              1          1               1   \n",
       "\n",
       "   EstimatedSalary  Exited  \n",
       "0        101348.88       1  \n",
       "1        112542.58       0  \n",
       "2        113931.57       1  \n",
       "3         93826.63       0  \n",
       "4         79084.10       0  "
      ],
      "text/html": [
       "<div>\n",
       "<style scoped>\n",
       "    .dataframe tbody tr th:only-of-type {\n",
       "        vertical-align: middle;\n",
       "    }\n",
       "\n",
       "    .dataframe tbody tr th {\n",
       "        vertical-align: top;\n",
       "    }\n",
       "\n",
       "    .dataframe thead th {\n",
       "        text-align: right;\n",
       "    }\n",
       "</style>\n",
       "<table border=\"1\" class=\"dataframe\">\n",
       "  <thead>\n",
       "    <tr style=\"text-align: right;\">\n",
       "      <th></th>\n",
       "      <th>RowNumber</th>\n",
       "      <th>CustomerId</th>\n",
       "      <th>Surname</th>\n",
       "      <th>CreditScore</th>\n",
       "      <th>Geography</th>\n",
       "      <th>Gender</th>\n",
       "      <th>Age</th>\n",
       "      <th>Tenure</th>\n",
       "      <th>Balance</th>\n",
       "      <th>NumOfProducts</th>\n",
       "      <th>HasCrCard</th>\n",
       "      <th>IsActiveMember</th>\n",
       "      <th>EstimatedSalary</th>\n",
       "      <th>Exited</th>\n",
       "    </tr>\n",
       "  </thead>\n",
       "  <tbody>\n",
       "    <tr>\n",
       "      <th>0</th>\n",
       "      <td>1</td>\n",
       "      <td>15634602</td>\n",
       "      <td>Hargrave</td>\n",
       "      <td>619</td>\n",
       "      <td>Portland</td>\n",
       "      <td>Female</td>\n",
       "      <td>42</td>\n",
       "      <td>2</td>\n",
       "      <td>0.00</td>\n",
       "      <td>1</td>\n",
       "      <td>1</td>\n",
       "      <td>1</td>\n",
       "      <td>101348.88</td>\n",
       "      <td>1</td>\n",
       "    </tr>\n",
       "    <tr>\n",
       "      <th>1</th>\n",
       "      <td>2</td>\n",
       "      <td>15647311</td>\n",
       "      <td>Hill</td>\n",
       "      <td>608</td>\n",
       "      <td>Salem</td>\n",
       "      <td>Female</td>\n",
       "      <td>41</td>\n",
       "      <td>1</td>\n",
       "      <td>83807.86</td>\n",
       "      <td>1</td>\n",
       "      <td>0</td>\n",
       "      <td>1</td>\n",
       "      <td>112542.58</td>\n",
       "      <td>0</td>\n",
       "    </tr>\n",
       "    <tr>\n",
       "      <th>2</th>\n",
       "      <td>3</td>\n",
       "      <td>15619304</td>\n",
       "      <td>Onio</td>\n",
       "      <td>502</td>\n",
       "      <td>Portland</td>\n",
       "      <td>Female</td>\n",
       "      <td>42</td>\n",
       "      <td>8</td>\n",
       "      <td>159660.80</td>\n",
       "      <td>3</td>\n",
       "      <td>1</td>\n",
       "      <td>0</td>\n",
       "      <td>113931.57</td>\n",
       "      <td>1</td>\n",
       "    </tr>\n",
       "    <tr>\n",
       "      <th>3</th>\n",
       "      <td>4</td>\n",
       "      <td>15701354</td>\n",
       "      <td>Boni</td>\n",
       "      <td>699</td>\n",
       "      <td>Portland</td>\n",
       "      <td>Female</td>\n",
       "      <td>39</td>\n",
       "      <td>1</td>\n",
       "      <td>0.00</td>\n",
       "      <td>2</td>\n",
       "      <td>0</td>\n",
       "      <td>0</td>\n",
       "      <td>93826.63</td>\n",
       "      <td>0</td>\n",
       "    </tr>\n",
       "    <tr>\n",
       "      <th>4</th>\n",
       "      <td>5</td>\n",
       "      <td>15737888</td>\n",
       "      <td>Mitchell</td>\n",
       "      <td>850</td>\n",
       "      <td>Salem</td>\n",
       "      <td>Female</td>\n",
       "      <td>43</td>\n",
       "      <td>2</td>\n",
       "      <td>125510.82</td>\n",
       "      <td>1</td>\n",
       "      <td>1</td>\n",
       "      <td>1</td>\n",
       "      <td>79084.10</td>\n",
       "      <td>0</td>\n",
       "    </tr>\n",
       "  </tbody>\n",
       "</table>\n",
       "</div>"
      ]
     },
     "execution_count": 3,
     "metadata": {},
     "output_type": "execute_result"
    }
   ],
   "execution_count": 3
  },
  {
   "metadata": {
    "ExecuteTime": {
     "end_time": "2025-01-30T21:19:46.332229Z",
     "start_time": "2025-01-30T21:19:46.326052Z"
    }
   },
   "cell_type": "code",
   "source": [
    "### Drop irrelevant columns\n",
    "data=data.drop(['RowNumber','CustomerId','Surname'],axis=1)\n",
    "data"
   ],
   "id": "7976dd1fea439ac4",
   "outputs": [
    {
     "data": {
      "text/plain": [
       "      CreditScore Geography  Gender  Age  Tenure    Balance  NumOfProducts  \\\n",
       "0             619  Portland  Female   42       2       0.00              1   \n",
       "1             608     Salem  Female   41       1   83807.86              1   \n",
       "2             502  Portland  Female   42       8  159660.80              3   \n",
       "3             699  Portland  Female   39       1       0.00              2   \n",
       "4             850     Salem  Female   43       2  125510.82              1   \n",
       "...           ...       ...     ...  ...     ...        ...            ...   \n",
       "9995          771  Portland    Male   39       5       0.00              2   \n",
       "9996          516  Portland    Male   35      10   57369.61              1   \n",
       "9997          709  Portland  Female   36       7       0.00              1   \n",
       "9998          772    Tigard    Male   42       3   75075.31              2   \n",
       "9999          792  Portland  Female   28       4  130142.79              1   \n",
       "\n",
       "      HasCrCard  IsActiveMember  EstimatedSalary  Exited  \n",
       "0             1               1        101348.88       1  \n",
       "1             0               1        112542.58       0  \n",
       "2             1               0        113931.57       1  \n",
       "3             0               0         93826.63       0  \n",
       "4             1               1         79084.10       0  \n",
       "...         ...             ...              ...     ...  \n",
       "9995          1               0         96270.64       0  \n",
       "9996          1               1        101699.77       0  \n",
       "9997          0               1         42085.58       1  \n",
       "9998          1               0         92888.52       1  \n",
       "9999          1               0         38190.78       0  \n",
       "\n",
       "[10000 rows x 11 columns]"
      ],
      "text/html": [
       "<div>\n",
       "<style scoped>\n",
       "    .dataframe tbody tr th:only-of-type {\n",
       "        vertical-align: middle;\n",
       "    }\n",
       "\n",
       "    .dataframe tbody tr th {\n",
       "        vertical-align: top;\n",
       "    }\n",
       "\n",
       "    .dataframe thead th {\n",
       "        text-align: right;\n",
       "    }\n",
       "</style>\n",
       "<table border=\"1\" class=\"dataframe\">\n",
       "  <thead>\n",
       "    <tr style=\"text-align: right;\">\n",
       "      <th></th>\n",
       "      <th>CreditScore</th>\n",
       "      <th>Geography</th>\n",
       "      <th>Gender</th>\n",
       "      <th>Age</th>\n",
       "      <th>Tenure</th>\n",
       "      <th>Balance</th>\n",
       "      <th>NumOfProducts</th>\n",
       "      <th>HasCrCard</th>\n",
       "      <th>IsActiveMember</th>\n",
       "      <th>EstimatedSalary</th>\n",
       "      <th>Exited</th>\n",
       "    </tr>\n",
       "  </thead>\n",
       "  <tbody>\n",
       "    <tr>\n",
       "      <th>0</th>\n",
       "      <td>619</td>\n",
       "      <td>Portland</td>\n",
       "      <td>Female</td>\n",
       "      <td>42</td>\n",
       "      <td>2</td>\n",
       "      <td>0.00</td>\n",
       "      <td>1</td>\n",
       "      <td>1</td>\n",
       "      <td>1</td>\n",
       "      <td>101348.88</td>\n",
       "      <td>1</td>\n",
       "    </tr>\n",
       "    <tr>\n",
       "      <th>1</th>\n",
       "      <td>608</td>\n",
       "      <td>Salem</td>\n",
       "      <td>Female</td>\n",
       "      <td>41</td>\n",
       "      <td>1</td>\n",
       "      <td>83807.86</td>\n",
       "      <td>1</td>\n",
       "      <td>0</td>\n",
       "      <td>1</td>\n",
       "      <td>112542.58</td>\n",
       "      <td>0</td>\n",
       "    </tr>\n",
       "    <tr>\n",
       "      <th>2</th>\n",
       "      <td>502</td>\n",
       "      <td>Portland</td>\n",
       "      <td>Female</td>\n",
       "      <td>42</td>\n",
       "      <td>8</td>\n",
       "      <td>159660.80</td>\n",
       "      <td>3</td>\n",
       "      <td>1</td>\n",
       "      <td>0</td>\n",
       "      <td>113931.57</td>\n",
       "      <td>1</td>\n",
       "    </tr>\n",
       "    <tr>\n",
       "      <th>3</th>\n",
       "      <td>699</td>\n",
       "      <td>Portland</td>\n",
       "      <td>Female</td>\n",
       "      <td>39</td>\n",
       "      <td>1</td>\n",
       "      <td>0.00</td>\n",
       "      <td>2</td>\n",
       "      <td>0</td>\n",
       "      <td>0</td>\n",
       "      <td>93826.63</td>\n",
       "      <td>0</td>\n",
       "    </tr>\n",
       "    <tr>\n",
       "      <th>4</th>\n",
       "      <td>850</td>\n",
       "      <td>Salem</td>\n",
       "      <td>Female</td>\n",
       "      <td>43</td>\n",
       "      <td>2</td>\n",
       "      <td>125510.82</td>\n",
       "      <td>1</td>\n",
       "      <td>1</td>\n",
       "      <td>1</td>\n",
       "      <td>79084.10</td>\n",
       "      <td>0</td>\n",
       "    </tr>\n",
       "    <tr>\n",
       "      <th>...</th>\n",
       "      <td>...</td>\n",
       "      <td>...</td>\n",
       "      <td>...</td>\n",
       "      <td>...</td>\n",
       "      <td>...</td>\n",
       "      <td>...</td>\n",
       "      <td>...</td>\n",
       "      <td>...</td>\n",
       "      <td>...</td>\n",
       "      <td>...</td>\n",
       "      <td>...</td>\n",
       "    </tr>\n",
       "    <tr>\n",
       "      <th>9995</th>\n",
       "      <td>771</td>\n",
       "      <td>Portland</td>\n",
       "      <td>Male</td>\n",
       "      <td>39</td>\n",
       "      <td>5</td>\n",
       "      <td>0.00</td>\n",
       "      <td>2</td>\n",
       "      <td>1</td>\n",
       "      <td>0</td>\n",
       "      <td>96270.64</td>\n",
       "      <td>0</td>\n",
       "    </tr>\n",
       "    <tr>\n",
       "      <th>9996</th>\n",
       "      <td>516</td>\n",
       "      <td>Portland</td>\n",
       "      <td>Male</td>\n",
       "      <td>35</td>\n",
       "      <td>10</td>\n",
       "      <td>57369.61</td>\n",
       "      <td>1</td>\n",
       "      <td>1</td>\n",
       "      <td>1</td>\n",
       "      <td>101699.77</td>\n",
       "      <td>0</td>\n",
       "    </tr>\n",
       "    <tr>\n",
       "      <th>9997</th>\n",
       "      <td>709</td>\n",
       "      <td>Portland</td>\n",
       "      <td>Female</td>\n",
       "      <td>36</td>\n",
       "      <td>7</td>\n",
       "      <td>0.00</td>\n",
       "      <td>1</td>\n",
       "      <td>0</td>\n",
       "      <td>1</td>\n",
       "      <td>42085.58</td>\n",
       "      <td>1</td>\n",
       "    </tr>\n",
       "    <tr>\n",
       "      <th>9998</th>\n",
       "      <td>772</td>\n",
       "      <td>Tigard</td>\n",
       "      <td>Male</td>\n",
       "      <td>42</td>\n",
       "      <td>3</td>\n",
       "      <td>75075.31</td>\n",
       "      <td>2</td>\n",
       "      <td>1</td>\n",
       "      <td>0</td>\n",
       "      <td>92888.52</td>\n",
       "      <td>1</td>\n",
       "    </tr>\n",
       "    <tr>\n",
       "      <th>9999</th>\n",
       "      <td>792</td>\n",
       "      <td>Portland</td>\n",
       "      <td>Female</td>\n",
       "      <td>28</td>\n",
       "      <td>4</td>\n",
       "      <td>130142.79</td>\n",
       "      <td>1</td>\n",
       "      <td>1</td>\n",
       "      <td>0</td>\n",
       "      <td>38190.78</td>\n",
       "      <td>0</td>\n",
       "    </tr>\n",
       "  </tbody>\n",
       "</table>\n",
       "<p>10000 rows × 11 columns</p>\n",
       "</div>"
      ]
     },
     "execution_count": 4,
     "metadata": {},
     "output_type": "execute_result"
    }
   ],
   "execution_count": 4
  },
  {
   "metadata": {
    "ExecuteTime": {
     "end_time": "2025-01-30T21:19:47.994654Z",
     "start_time": "2025-01-30T21:19:47.991593Z"
    }
   },
   "cell_type": "code",
   "source": [
    "## Encode the gender column to 0 and 1\n",
    "label_encoder_gender = LabelEncoder()\n",
    "data['Gender'] = label_encoder_gender.fit_transform(data['Gender'])"
   ],
   "id": "44ffd698cf516ec6",
   "outputs": [],
   "execution_count": 5
  },
  {
   "metadata": {
    "ExecuteTime": {
     "end_time": "2025-01-30T21:19:49.538930Z",
     "start_time": "2025-01-30T21:19:49.530587Z"
    }
   },
   "cell_type": "code",
   "source": [
    "#convert the geo location features\n",
    "## Onehot encode 'Geography\n",
    "onehot_encoder_geo = OneHotEncoder(handle_unknown='ignore')\n",
    "geo_encoded = onehot_encoder_geo.fit_transform(data[['Geography']]).toarray()\n",
    "geo_encoded_df = pd.DataFrame(geo_encoded, columns=onehot_encoder_geo.get_feature_names_out(['Geography']))\n",
    "geo_encoded_df"
   ],
   "id": "db570c46cdc684be",
   "outputs": [
    {
     "data": {
      "text/plain": [
       "      Geography_Portland  Geography_Salem  Geography_Tigard\n",
       "0                    1.0              0.0               0.0\n",
       "1                    0.0              1.0               0.0\n",
       "2                    1.0              0.0               0.0\n",
       "3                    1.0              0.0               0.0\n",
       "4                    0.0              1.0               0.0\n",
       "...                  ...              ...               ...\n",
       "9995                 1.0              0.0               0.0\n",
       "9996                 1.0              0.0               0.0\n",
       "9997                 1.0              0.0               0.0\n",
       "9998                 0.0              0.0               1.0\n",
       "9999                 1.0              0.0               0.0\n",
       "\n",
       "[10000 rows x 3 columns]"
      ],
      "text/html": [
       "<div>\n",
       "<style scoped>\n",
       "    .dataframe tbody tr th:only-of-type {\n",
       "        vertical-align: middle;\n",
       "    }\n",
       "\n",
       "    .dataframe tbody tr th {\n",
       "        vertical-align: top;\n",
       "    }\n",
       "\n",
       "    .dataframe thead th {\n",
       "        text-align: right;\n",
       "    }\n",
       "</style>\n",
       "<table border=\"1\" class=\"dataframe\">\n",
       "  <thead>\n",
       "    <tr style=\"text-align: right;\">\n",
       "      <th></th>\n",
       "      <th>Geography_Portland</th>\n",
       "      <th>Geography_Salem</th>\n",
       "      <th>Geography_Tigard</th>\n",
       "    </tr>\n",
       "  </thead>\n",
       "  <tbody>\n",
       "    <tr>\n",
       "      <th>0</th>\n",
       "      <td>1.0</td>\n",
       "      <td>0.0</td>\n",
       "      <td>0.0</td>\n",
       "    </tr>\n",
       "    <tr>\n",
       "      <th>1</th>\n",
       "      <td>0.0</td>\n",
       "      <td>1.0</td>\n",
       "      <td>0.0</td>\n",
       "    </tr>\n",
       "    <tr>\n",
       "      <th>2</th>\n",
       "      <td>1.0</td>\n",
       "      <td>0.0</td>\n",
       "      <td>0.0</td>\n",
       "    </tr>\n",
       "    <tr>\n",
       "      <th>3</th>\n",
       "      <td>1.0</td>\n",
       "      <td>0.0</td>\n",
       "      <td>0.0</td>\n",
       "    </tr>\n",
       "    <tr>\n",
       "      <th>4</th>\n",
       "      <td>0.0</td>\n",
       "      <td>1.0</td>\n",
       "      <td>0.0</td>\n",
       "    </tr>\n",
       "    <tr>\n",
       "      <th>...</th>\n",
       "      <td>...</td>\n",
       "      <td>...</td>\n",
       "      <td>...</td>\n",
       "    </tr>\n",
       "    <tr>\n",
       "      <th>9995</th>\n",
       "      <td>1.0</td>\n",
       "      <td>0.0</td>\n",
       "      <td>0.0</td>\n",
       "    </tr>\n",
       "    <tr>\n",
       "      <th>9996</th>\n",
       "      <td>1.0</td>\n",
       "      <td>0.0</td>\n",
       "      <td>0.0</td>\n",
       "    </tr>\n",
       "    <tr>\n",
       "      <th>9997</th>\n",
       "      <td>1.0</td>\n",
       "      <td>0.0</td>\n",
       "      <td>0.0</td>\n",
       "    </tr>\n",
       "    <tr>\n",
       "      <th>9998</th>\n",
       "      <td>0.0</td>\n",
       "      <td>0.0</td>\n",
       "      <td>1.0</td>\n",
       "    </tr>\n",
       "    <tr>\n",
       "      <th>9999</th>\n",
       "      <td>1.0</td>\n",
       "      <td>0.0</td>\n",
       "      <td>0.0</td>\n",
       "    </tr>\n",
       "  </tbody>\n",
       "</table>\n",
       "<p>10000 rows × 3 columns</p>\n",
       "</div>"
      ]
     },
     "execution_count": 6,
     "metadata": {},
     "output_type": "execute_result"
    }
   ],
   "execution_count": 6
  },
  {
   "metadata": {
    "ExecuteTime": {
     "end_time": "2025-01-30T21:19:51.627803Z",
     "start_time": "2025-01-30T21:19:51.621802Z"
    }
   },
   "cell_type": "code",
   "source": [
    "## Combine one hot encoder columns with the original data\n",
    "data = pd.concat([data.drop('Geography', axis=1), geo_encoded_df], axis=1)\n",
    "data.head()"
   ],
   "id": "770201362a5378ab",
   "outputs": [
    {
     "data": {
      "text/plain": [
       "   CreditScore  Gender  Age  Tenure    Balance  NumOfProducts  HasCrCard  \\\n",
       "0          619       0   42       2       0.00              1          1   \n",
       "1          608       0   41       1   83807.86              1          0   \n",
       "2          502       0   42       8  159660.80              3          1   \n",
       "3          699       0   39       1       0.00              2          0   \n",
       "4          850       0   43       2  125510.82              1          1   \n",
       "\n",
       "   IsActiveMember  EstimatedSalary  Exited  Geography_Portland  \\\n",
       "0               1        101348.88       1                 1.0   \n",
       "1               1        112542.58       0                 0.0   \n",
       "2               0        113931.57       1                 1.0   \n",
       "3               0         93826.63       0                 1.0   \n",
       "4               1         79084.10       0                 0.0   \n",
       "\n",
       "   Geography_Salem  Geography_Tigard  \n",
       "0              0.0               0.0  \n",
       "1              1.0               0.0  \n",
       "2              0.0               0.0  \n",
       "3              0.0               0.0  \n",
       "4              1.0               0.0  "
      ],
      "text/html": [
       "<div>\n",
       "<style scoped>\n",
       "    .dataframe tbody tr th:only-of-type {\n",
       "        vertical-align: middle;\n",
       "    }\n",
       "\n",
       "    .dataframe tbody tr th {\n",
       "        vertical-align: top;\n",
       "    }\n",
       "\n",
       "    .dataframe thead th {\n",
       "        text-align: right;\n",
       "    }\n",
       "</style>\n",
       "<table border=\"1\" class=\"dataframe\">\n",
       "  <thead>\n",
       "    <tr style=\"text-align: right;\">\n",
       "      <th></th>\n",
       "      <th>CreditScore</th>\n",
       "      <th>Gender</th>\n",
       "      <th>Age</th>\n",
       "      <th>Tenure</th>\n",
       "      <th>Balance</th>\n",
       "      <th>NumOfProducts</th>\n",
       "      <th>HasCrCard</th>\n",
       "      <th>IsActiveMember</th>\n",
       "      <th>EstimatedSalary</th>\n",
       "      <th>Exited</th>\n",
       "      <th>Geography_Portland</th>\n",
       "      <th>Geography_Salem</th>\n",
       "      <th>Geography_Tigard</th>\n",
       "    </tr>\n",
       "  </thead>\n",
       "  <tbody>\n",
       "    <tr>\n",
       "      <th>0</th>\n",
       "      <td>619</td>\n",
       "      <td>0</td>\n",
       "      <td>42</td>\n",
       "      <td>2</td>\n",
       "      <td>0.00</td>\n",
       "      <td>1</td>\n",
       "      <td>1</td>\n",
       "      <td>1</td>\n",
       "      <td>101348.88</td>\n",
       "      <td>1</td>\n",
       "      <td>1.0</td>\n",
       "      <td>0.0</td>\n",
       "      <td>0.0</td>\n",
       "    </tr>\n",
       "    <tr>\n",
       "      <th>1</th>\n",
       "      <td>608</td>\n",
       "      <td>0</td>\n",
       "      <td>41</td>\n",
       "      <td>1</td>\n",
       "      <td>83807.86</td>\n",
       "      <td>1</td>\n",
       "      <td>0</td>\n",
       "      <td>1</td>\n",
       "      <td>112542.58</td>\n",
       "      <td>0</td>\n",
       "      <td>0.0</td>\n",
       "      <td>1.0</td>\n",
       "      <td>0.0</td>\n",
       "    </tr>\n",
       "    <tr>\n",
       "      <th>2</th>\n",
       "      <td>502</td>\n",
       "      <td>0</td>\n",
       "      <td>42</td>\n",
       "      <td>8</td>\n",
       "      <td>159660.80</td>\n",
       "      <td>3</td>\n",
       "      <td>1</td>\n",
       "      <td>0</td>\n",
       "      <td>113931.57</td>\n",
       "      <td>1</td>\n",
       "      <td>1.0</td>\n",
       "      <td>0.0</td>\n",
       "      <td>0.0</td>\n",
       "    </tr>\n",
       "    <tr>\n",
       "      <th>3</th>\n",
       "      <td>699</td>\n",
       "      <td>0</td>\n",
       "      <td>39</td>\n",
       "      <td>1</td>\n",
       "      <td>0.00</td>\n",
       "      <td>2</td>\n",
       "      <td>0</td>\n",
       "      <td>0</td>\n",
       "      <td>93826.63</td>\n",
       "      <td>0</td>\n",
       "      <td>1.0</td>\n",
       "      <td>0.0</td>\n",
       "      <td>0.0</td>\n",
       "    </tr>\n",
       "    <tr>\n",
       "      <th>4</th>\n",
       "      <td>850</td>\n",
       "      <td>0</td>\n",
       "      <td>43</td>\n",
       "      <td>2</td>\n",
       "      <td>125510.82</td>\n",
       "      <td>1</td>\n",
       "      <td>1</td>\n",
       "      <td>1</td>\n",
       "      <td>79084.10</td>\n",
       "      <td>0</td>\n",
       "      <td>0.0</td>\n",
       "      <td>1.0</td>\n",
       "      <td>0.0</td>\n",
       "    </tr>\n",
       "  </tbody>\n",
       "</table>\n",
       "</div>"
      ]
     },
     "execution_count": 7,
     "metadata": {},
     "output_type": "execute_result"
    }
   ],
   "execution_count": 7
  },
  {
   "metadata": {
    "ExecuteTime": {
     "end_time": "2025-01-30T21:19:59.450487Z",
     "start_time": "2025-01-30T21:19:59.448213Z"
    }
   },
   "cell_type": "code",
   "source": [
    "#split the salary data features, put estimatedsalary into y, everything else into X\n",
    "X = data.drop('EstimatedSalary', axis=1)\n",
    "y = data['EstimatedSalary']"
   ],
   "id": "e44e927bf022bbce",
   "outputs": [],
   "execution_count": 9
  },
  {
   "metadata": {
    "ExecuteTime": {
     "end_time": "2025-01-30T21:20:04.202982Z",
     "start_time": "2025-01-30T21:20:04.198932Z"
    }
   },
   "cell_type": "code",
   "source": [
    "## Split the data in training and tetsing sets before we use scaler.pki\n",
    "X_train,X_test,y_train,y_test=train_test_split(X,y,test_size=0.2,random_state=42)"
   ],
   "id": "696a0dbd36e072b9",
   "outputs": [],
   "execution_count": 10
  },
  {
   "metadata": {
    "ExecuteTime": {
     "end_time": "2025-01-30T21:20:05.374849Z",
     "start_time": "2025-01-30T21:20:05.370759Z"
    }
   },
   "cell_type": "code",
   "source": [
    "## Scale these features\n",
    "scaler=StandardScaler()\n",
    "X_train=scaler.fit_transform(X_train)\n",
    "X_test=scaler.transform(X_test)"
   ],
   "id": "d96da86d62c996a2",
   "outputs": [],
   "execution_count": 11
  },
  {
   "metadata": {
    "ExecuteTime": {
     "end_time": "2025-01-30T21:22:42.149201Z",
     "start_time": "2025-01-30T21:22:42.146503Z"
    }
   },
   "cell_type": "code",
   "source": [
    "## Save the encoders and sscaler\n",
    "with open('label_encoder_gender.pkl', 'wb') as file:\n",
    "    pickle.dump(label_encoder_gender, file)\n",
    "\n",
    "with open('onehot_encoder_geo.pkl', 'wb') as file:\n",
    "    pickle.dump(onehot_encoder_geo, file)\n",
    "\n",
    "with open('scaler.pkl', 'wb') as file:\n",
    "    pickle.dump(scaler, file)\n"
   ],
   "id": "cf21395901b335ec",
   "outputs": [],
   "execution_count": 22
  },
  {
   "metadata": {},
   "cell_type": "markdown",
   "source": "<h2> ANN Regression problem statement",
   "id": "7f8ed4c8eaf53ee3"
  },
  {
   "metadata": {
    "ExecuteTime": {
     "end_time": "2025-01-30T21:20:09.945532Z",
     "start_time": "2025-01-30T21:20:09.875926Z"
    }
   },
   "cell_type": "code",
   "source": [
    "import tensorflow as tf\n",
    "print(tf.__version__)\n",
    "\n",
    "from tf_keras.models import Sequential\n",
    "from tf_keras.layers import Dense\n",
    "from tf_keras.optimizers.legacy import Adam"
   ],
   "id": "4cc3eededb2222a",
   "outputs": [
    {
     "name": "stdout",
     "output_type": "stream",
     "text": [
      "2.18.0\n"
     ]
    }
   ],
   "execution_count": 13
  },
  {
   "metadata": {
    "ExecuteTime": {
     "end_time": "2025-01-30T21:20:12.506385Z",
     "start_time": "2025-01-30T21:20:12.482516Z"
    }
   },
   "cell_type": "code",
   "source": [
    "# Build Our ANN Model\n",
    "model=Sequential([\n",
    "    Dense(64,activation='relu',input_shape=(X_train.shape[1],)), ## HL1\n",
    "    Dense(32,activation='relu'), ## HL2\n",
    "    Dense(1)  ## output layer no activation function applied, default used - linear activation\n",
    "  ]\n",
    ")\n",
    "\n",
    "#compile the model\n",
    "opt = Adam()\n",
    "\n",
    "model.compile(\n",
    "  optimizer=opt,\n",
    "  loss=\"mean_absolute_error\",\n",
    "  metrics=['mae']\n",
    ")\n",
    "model.summary()\n"
   ],
   "id": "60c00be41c846977",
   "outputs": [
    {
     "name": "stdout",
     "output_type": "stream",
     "text": [
      "Model: \"sequential\"\n",
      "_________________________________________________________________\n",
      " Layer (type)                Output Shape              Param #   \n",
      "=================================================================\n",
      " dense (Dense)               (None, 64)                832       \n",
      "                                                                 \n",
      " dense_1 (Dense)             (None, 32)                2080      \n",
      "                                                                 \n",
      " dense_2 (Dense)             (None, 1)                 33        \n",
      "                                                                 \n",
      "=================================================================\n",
      "Total params: 2945 (11.50 KB)\n",
      "Trainable params: 2945 (11.50 KB)\n",
      "Non-trainable params: 0 (0.00 Byte)\n",
      "_________________________________________________________________\n"
     ]
    }
   ],
   "execution_count": 14
  },
  {
   "metadata": {
    "ExecuteTime": {
     "end_time": "2025-01-30T21:20:16.694972Z",
     "start_time": "2025-01-30T21:20:16.692828Z"
    }
   },
   "cell_type": "code",
   "source": [
    "#setup the tensorboard and logs\n",
    "import datetime\n",
    "from tf_keras.callbacks import EarlyStopping, TensorBoard\n",
    "\n",
    "log_dir=\"regressionlogs/fit/\" + datetime.datetime.now().strftime(\"%Y%m%d-%H%M%S\")\n",
    "tensorboard_callback = TensorBoard(log_dir=log_dir, histogram_freq=1)\n"
   ],
   "id": "2ebc3c52291c78e2",
   "outputs": [],
   "execution_count": 15
  },
  {
   "metadata": {
    "ExecuteTime": {
     "end_time": "2025-01-30T21:20:21.668931Z",
     "start_time": "2025-01-30T21:20:21.666759Z"
    }
   },
   "cell_type": "code",
   "source": [
    "## Set up Early Stopping\n",
    "early_stopping_callback=EarlyStopping(\n",
    "  monitor='val_loss',\n",
    "  patience=5,\n",
    "  restore_best_weights=True\n",
    ")\n"
   ],
   "id": "c6157007a95ea92b",
   "outputs": [],
   "execution_count": 16
  },
  {
   "metadata": {
    "ExecuteTime": {
     "end_time": "2025-01-30T21:20:32.396979Z",
     "start_time": "2025-01-30T21:20:27.611769Z"
    }
   },
   "cell_type": "code",
   "source": [
    "#train the model\n",
    "history=model.fit(\n",
    "    X_train,\n",
    "    y_train,\n",
    "    validation_data=(X_test,y_test),\n",
    "    epochs=100,\n",
    "    callbacks=[tensorboard_callback,early_stopping_callback]\n",
    ")\n"
   ],
   "id": "3f522a68e91e87b1",
   "outputs": [
    {
     "name": "stdout",
     "output_type": "stream",
     "text": [
      "Epoch 1/100\n",
      "250/250 [==============================] - 0s 634us/step - loss: 100376.4609 - mae: 100376.4609 - val_loss: 98509.1328 - val_mae: 98509.1328\n",
      "Epoch 2/100\n",
      "250/250 [==============================] - 0s 447us/step - loss: 99584.5625 - mae: 99584.5625 - val_loss: 96900.7734 - val_mae: 96900.7734\n",
      "Epoch 3/100\n",
      "250/250 [==============================] - 0s 445us/step - loss: 96785.1016 - mae: 96785.1016 - val_loss: 92791.1797 - val_mae: 92791.1797\n",
      "Epoch 4/100\n",
      "250/250 [==============================] - 0s 432us/step - loss: 91272.1953 - mae: 91272.1953 - val_loss: 85973.8906 - val_mae: 85973.8906\n",
      "Epoch 5/100\n",
      "250/250 [==============================] - 0s 442us/step - loss: 83321.6953 - mae: 83321.6953 - val_loss: 77430.8125 - val_mae: 77430.8125\n",
      "Epoch 6/100\n",
      "250/250 [==============================] - 0s 436us/step - loss: 74261.6172 - mae: 74261.6172 - val_loss: 68547.0234 - val_mae: 68547.0234\n",
      "Epoch 7/100\n",
      "250/250 [==============================] - 0s 433us/step - loss: 65598.6641 - mae: 65598.6641 - val_loss: 60954.0078 - val_mae: 60954.0078\n",
      "Epoch 8/100\n",
      "250/250 [==============================] - 0s 440us/step - loss: 58783.5469 - mae: 58783.5469 - val_loss: 55554.7656 - val_mae: 55554.7656\n",
      "Epoch 9/100\n",
      "250/250 [==============================] - 0s 436us/step - loss: 54288.1367 - mae: 54288.1367 - val_loss: 52503.4414 - val_mae: 52503.4414\n",
      "Epoch 10/100\n",
      "250/250 [==============================] - 0s 430us/step - loss: 51797.6641 - mae: 51797.6641 - val_loss: 51119.8164 - val_mae: 51119.8164\n",
      "Epoch 11/100\n",
      "250/250 [==============================] - 0s 453us/step - loss: 50691.6406 - mae: 50691.6406 - val_loss: 50617.7891 - val_mae: 50617.7891\n",
      "Epoch 12/100\n",
      "250/250 [==============================] - 0s 493us/step - loss: 50270.8672 - mae: 50270.8672 - val_loss: 50474.9375 - val_mae: 50474.9375\n",
      "Epoch 13/100\n",
      "250/250 [==============================] - 0s 479us/step - loss: 50097.2344 - mae: 50097.2344 - val_loss: 50440.9531 - val_mae: 50440.9531\n",
      "Epoch 14/100\n",
      "250/250 [==============================] - 0s 478us/step - loss: 50020.1562 - mae: 50020.1562 - val_loss: 50431.5117 - val_mae: 50431.5117\n",
      "Epoch 15/100\n",
      "250/250 [==============================] - 0s 478us/step - loss: 49967.6875 - mae: 49967.6875 - val_loss: 50418.8008 - val_mae: 50418.8008\n",
      "Epoch 16/100\n",
      "250/250 [==============================] - 0s 469us/step - loss: 49929.1875 - mae: 49929.1875 - val_loss: 50413.2930 - val_mae: 50413.2930\n",
      "Epoch 17/100\n",
      "250/250 [==============================] - 0s 463us/step - loss: 49897.1797 - mae: 49897.1797 - val_loss: 50391.9453 - val_mae: 50391.9453\n",
      "Epoch 18/100\n",
      "250/250 [==============================] - 0s 485us/step - loss: 49869.8008 - mae: 49869.8008 - val_loss: 50383.7109 - val_mae: 50383.7109\n",
      "Epoch 19/100\n",
      "250/250 [==============================] - 0s 482us/step - loss: 49843.9492 - mae: 49843.9492 - val_loss: 50375.2930 - val_mae: 50375.2930\n",
      "Epoch 20/100\n",
      "250/250 [==============================] - 0s 493us/step - loss: 49822.2852 - mae: 49822.2852 - val_loss: 50368.6992 - val_mae: 50368.6992\n",
      "Epoch 21/100\n",
      "250/250 [==============================] - 0s 488us/step - loss: 49797.6055 - mae: 49797.6055 - val_loss: 50362.3203 - val_mae: 50362.3203\n",
      "Epoch 22/100\n",
      "250/250 [==============================] - 0s 462us/step - loss: 49780.0000 - mae: 49780.0000 - val_loss: 50366.8359 - val_mae: 50366.8359\n",
      "Epoch 23/100\n",
      "250/250 [==============================] - 0s 454us/step - loss: 49758.5234 - mae: 49758.5234 - val_loss: 50352.9883 - val_mae: 50352.9883\n",
      "Epoch 24/100\n",
      "250/250 [==============================] - 0s 441us/step - loss: 49745.6016 - mae: 49745.6016 - val_loss: 50354.3906 - val_mae: 50354.3906\n",
      "Epoch 25/100\n",
      "250/250 [==============================] - 0s 449us/step - loss: 49729.1797 - mae: 49729.1797 - val_loss: 50351.9922 - val_mae: 50351.9922\n",
      "Epoch 26/100\n",
      "250/250 [==============================] - 0s 435us/step - loss: 49713.6719 - mae: 49713.6719 - val_loss: 50348.2695 - val_mae: 50348.2695\n",
      "Epoch 27/100\n",
      "250/250 [==============================] - 0s 435us/step - loss: 49697.8945 - mae: 49697.8945 - val_loss: 50342.8398 - val_mae: 50342.8398\n",
      "Epoch 28/100\n",
      "250/250 [==============================] - 0s 434us/step - loss: 49683.2812 - mae: 49683.2812 - val_loss: 50348.9102 - val_mae: 50348.9102\n",
      "Epoch 29/100\n",
      "250/250 [==============================] - 0s 436us/step - loss: 49668.7148 - mae: 49668.7148 - val_loss: 50330.9062 - val_mae: 50330.9062\n",
      "Epoch 30/100\n",
      "250/250 [==============================] - 0s 436us/step - loss: 49660.2070 - mae: 49660.2070 - val_loss: 50334.3789 - val_mae: 50334.3789\n",
      "Epoch 31/100\n",
      "250/250 [==============================] - 0s 435us/step - loss: 49644.2930 - mae: 49644.2930 - val_loss: 50319.9648 - val_mae: 50319.9648\n",
      "Epoch 32/100\n",
      "250/250 [==============================] - 0s 425us/step - loss: 49635.6992 - mae: 49635.6992 - val_loss: 50328.1055 - val_mae: 50328.1055\n",
      "Epoch 33/100\n",
      "250/250 [==============================] - 0s 481us/step - loss: 49625.4570 - mae: 49625.4570 - val_loss: 50320.3945 - val_mae: 50320.3945\n",
      "Epoch 34/100\n",
      "250/250 [==============================] - 0s 510us/step - loss: 49615.1562 - mae: 49615.1562 - val_loss: 50335.6211 - val_mae: 50335.6211\n",
      "Epoch 35/100\n",
      "250/250 [==============================] - 0s 506us/step - loss: 49602.6406 - mae: 49602.6406 - val_loss: 50313.5508 - val_mae: 50313.5508\n",
      "Epoch 36/100\n",
      "250/250 [==============================] - 0s 480us/step - loss: 49592.8242 - mae: 49592.8242 - val_loss: 50317.9297 - val_mae: 50317.9297\n",
      "Epoch 37/100\n",
      "250/250 [==============================] - 0s 455us/step - loss: 49584.8477 - mae: 49584.8477 - val_loss: 50316.3320 - val_mae: 50316.3320\n",
      "Epoch 38/100\n",
      "250/250 [==============================] - 0s 456us/step - loss: 49577.8945 - mae: 49577.8945 - val_loss: 50321.9062 - val_mae: 50321.9062\n",
      "Epoch 39/100\n",
      "250/250 [==============================] - 0s 440us/step - loss: 49568.6992 - mae: 49568.6992 - val_loss: 50316.2695 - val_mae: 50316.2695\n",
      "Epoch 40/100\n",
      "250/250 [==============================] - 0s 433us/step - loss: 49559.3633 - mae: 49559.3633 - val_loss: 50318.8945 - val_mae: 50318.8945\n"
     ]
    }
   ],
   "execution_count": 17
  },
  {
   "metadata": {
    "ExecuteTime": {
     "end_time": "2025-01-30T21:20:39.641922Z",
     "start_time": "2025-01-30T21:20:39.636260Z"
    }
   },
   "cell_type": "code",
   "source": [
    "## Load Tensorboard Extension\n",
    "%load_ext tensorboard"
   ],
   "id": "5bcc637fc6fa3d84",
   "outputs": [],
   "execution_count": 18
  },
  {
   "metadata": {
    "ExecuteTime": {
     "end_time": "2025-01-30T21:20:43.524525Z",
     "start_time": "2025-01-30T21:20:40.980959Z"
    }
   },
   "cell_type": "code",
   "source": "%tensorboard --logdir regressionlogs/fit",
   "id": "87a7e4437cb8fd05",
   "outputs": [
    {
     "data": {
      "text/plain": [
       "<IPython.core.display.HTML object>"
      ],
      "text/html": [
       "\n",
       "      <iframe id=\"tensorboard-frame-7878ef0cd09e707b\" width=\"100%\" height=\"800\" frameborder=\"0\">\n",
       "      </iframe>\n",
       "      <script>\n",
       "        (function() {\n",
       "          const frame = document.getElementById(\"tensorboard-frame-7878ef0cd09e707b\");\n",
       "          const url = new URL(\"/\", window.location);\n",
       "          const port = 6006;\n",
       "          if (port) {\n",
       "            url.port = port;\n",
       "          }\n",
       "          frame.src = url;\n",
       "        })();\n",
       "      </script>\n",
       "    "
      ]
     },
     "metadata": {},
     "output_type": "display_data"
    }
   ],
   "execution_count": 19
  },
  {
   "metadata": {
    "ExecuteTime": {
     "end_time": "2025-01-30T21:20:56.493041Z",
     "start_time": "2025-01-30T21:20:56.444270Z"
    }
   },
   "cell_type": "code",
   "source": [
    "#evaluate model on the test data\n",
    "test_loss,test_mae=model.evaluate(X_test,y_test)\n",
    "print(f'Test MAE: {test_mae:.2f}')"
   ],
   "id": "8b4142e7439c0e70",
   "outputs": [
    {
     "name": "stdout",
     "output_type": "stream",
     "text": [
      "63/63 [==============================] - 0s 276us/step - loss: 50313.5508 - mae: 50313.5508\n",
      "Test MAE: 50313.55\n"
     ]
    }
   ],
   "execution_count": 20
  },
  {
   "metadata": {
    "ExecuteTime": {
     "end_time": "2025-01-30T21:21:02.562887Z",
     "start_time": "2025-01-30T21:21:02.552891Z"
    }
   },
   "cell_type": "code",
   "source": [
    "#save the model\n",
    "model.save('regression_model.h5')"
   ],
   "id": "ccfeb92216d319ca",
   "outputs": [
    {
     "name": "stderr",
     "output_type": "stream",
     "text": [
      "/Users/chrism/Projects/AIProjects/.venv/lib/python3.12/site-packages/tf_keras/src/engine/training.py:3098: UserWarning: You are saving your model as an HDF5 file via `model.save()`. This file format is considered legacy. We recommend using instead the native TF-Keras format, e.g. `model.save('my_model.keras')`.\n",
      "  saving_api.save_model(\n"
     ]
    }
   ],
   "execution_count": 21
  }
 ],
 "metadata": {
  "kernelspec": {
   "display_name": "Python 3",
   "language": "python",
   "name": "python3"
  },
  "language_info": {
   "codemirror_mode": {
    "name": "ipython",
    "version": 2
   },
   "file_extension": ".py",
   "mimetype": "text/x-python",
   "name": "python",
   "nbconvert_exporter": "python",
   "pygments_lexer": "ipython2",
   "version": "2.7.6"
  }
 },
 "nbformat": 4,
 "nbformat_minor": 5
}
